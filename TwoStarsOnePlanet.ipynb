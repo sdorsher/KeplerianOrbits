{
 "cells": [
  {
   "cell_type": "code",
   "execution_count": 1,
   "metadata": {},
   "outputs": [],
   "source": [
    "import math\n",
    "import numpy as np"
   ]
  },
  {
   "cell_type": "code",
   "execution_count": 2,
   "metadata": {},
   "outputs": [],
   "source": [
    "import ellipsefns\n",
    "#getfocus, getsemiminor, theoreticalx, theoreticaly"
   ]
  },
  {
   "cell_type": "code",
   "execution_count": 3,
   "metadata": {},
   "outputs": [],
   "source": [
    "import initdatuneq"
   ]
  },
  {
   "cell_type": "code",
   "execution_count": 4,
   "metadata": {},
   "outputs": [],
   "source": [
    "delta=0.005"
   ]
  },
  {
   "cell_type": "code",
   "execution_count": 5,
   "metadata": {},
   "outputs": [
    {
     "name": "stdout",
     "output_type": "stream",
     "text": [
      "angle 0.0\n",
      "0.0\n",
      "angle 0.0\n",
      "0.0\n",
      "(array([3.14159265, 0.        ]), 0.0, 10, 0.0, array([100., 100.]))\n",
      "(array([3.14159265, 0.        ]), 0.0, 1000, 0.0, array([200.,   1.]))\n"
     ]
    }
   ],
   "source": [
    "\n",
    "rad0=[10,1000]\n",
    "ecc0=[0.,0.] #set ecc = 0 for circle, ecc < 1 for ellepse, = 1 for parabola, >1 for hyperbola\n",
    "theta0= [0.0,0.] #math.pi/6. #math.pi/6.\n",
    "mass0_1=[100.0,100.0]\n",
    "mass0_2=1.0\n",
    "initdatinner=initdatuneq.InitialDataEqualMassConic(rad0[0],ecc0[0],theta0[0],mass0_1[0],mass0_1[0])\n",
    "initdatouter=initdatuneq.InitialDataEqualMassConic(rad0[1],ecc0[1],theta0[1],np.sum(np.array(mass0_1)),mass0_2)\n",
    "print(initdatinner)\n",
    "print(initdatouter)"
   ]
  },
  {
   "cell_type": "code",
   "execution_count": null,
   "metadata": {},
   "outputs": [],
   "source": []
  },
  {
   "cell_type": "markdown",
   "metadata": {},
   "source": []
  },
  {
   "cell_type": "code",
   "execution_count": null,
   "metadata": {},
   "outputs": [],
   "source": []
  },
  {
   "cell_type": "code",
   "execution_count": 6,
   "metadata": {},
   "outputs": [],
   "source": [
    "import getxyuvtwouneq_apper #unequal mass version"
   ]
  },
  {
   "cell_type": "code",
   "execution_count": 7,
   "metadata": {},
   "outputs": [],
   "source": [
    "useperihelion=True"
   ]
  },
  {
   "cell_type": "code",
   "execution_count": 8,
   "metadata": {},
   "outputs": [
    {
     "name": "stdout",
     "output_type": "stream",
     "text": [
      "initdat 1000 [3.14159265 0.        ] 0.0 [-1.  1.] [1.2246468e-16 0.0000000e+00]\n",
      "coordsep 1000\n",
      "pi\n",
      "zero\n",
      "[-1000.  1000.]\n",
      "[0. 0.]\n",
      "circle\n",
      "r0 2000.0\n",
      "(array([200.,   1.]), array([[-4.97512438e+00,  0.00000000e+00,  0.00000000e+00,\n",
      "        -0.00000000e+00, -2.23049868e-03,  0.00000000e+00],\n",
      "       [ 9.95024876e+02,  0.00000000e+00,  0.00000000e+00,\n",
      "        -0.00000000e+00,  4.46099737e-01,  0.00000000e+00]]), array([[ 1.e-06, -0.e+00,  0.e+00],\n",
      "       [-1.e-06, -0.e+00,  0.e+00]]))\n"
     ]
    }
   ],
   "source": [
    "xyuvouter=getxyuvtwouneq_apper.getxyuvequneq(initdatouter,useperihelion)\n",
    "print(xyuvouter)\n",
    "massesouter,xvecouter,avecouter=xyuvouter"
   ]
  },
  {
   "cell_type": "code",
   "execution_count": 9,
   "metadata": {},
   "outputs": [
    {
     "data": {
      "text/plain": [
       "(2, 6)"
      ]
     },
     "execution_count": 9,
     "metadata": {},
     "output_type": "execute_result"
    }
   ],
   "source": [
    "np.shape(xvecouter)"
   ]
  },
  {
   "cell_type": "code",
   "execution_count": 10,
   "metadata": {},
   "outputs": [
    {
     "name": "stdout",
     "output_type": "stream",
     "text": [
      "initdat 10 [3.14159265 0.        ] 0.0 [-1.  1.] [1.2246468e-16 0.0000000e+00]\n",
      "coordsep 10\n",
      "pi\n",
      "zero\n",
      "[-10.  10.]\n",
      "[0. 0.]\n",
      "circle\n",
      "r0 20.0\n",
      "(array([100., 100.]), array([[-5.        ,  0.        ,  0.        , -0.        , -2.23606798,\n",
      "         0.        ],\n",
      "       [ 5.        ,  0.        ,  0.        , -0.        ,  2.23606798,\n",
      "         0.        ]]), array([[ 1., -0.,  0.],\n",
      "       [-1., -0.,  0.]]))\n"
     ]
    }
   ],
   "source": [
    "xyuvinner=getxyuvtwouneq_apper.getxyuvequneq(initdatinner,useperihelion)\n",
    "print(xyuvinner)\n",
    "massesinner,xvecinner,avecinner=xyuvinner"
   ]
  },
  {
   "cell_type": "code",
   "execution_count": 11,
   "metadata": {},
   "outputs": [],
   "source": [
    "def weavexyuvtwostarsoneplanet(massesinner,massesouter,xvecinner,xvecouter, avecinner,avecouter):\n",
    "    masses=np.zeros(3)\n",
    "    xvec=np.zeros([3,6])\n",
    "    avec=np.zeros([3,3])\n",
    "    masses[0:2]=massesinner\n",
    "    masses[2]=(massesouter[1])\n",
    "    xvec[0:2,:]=xvecinner\n",
    "    xvec[2,:]=(xvecouter[1,:])\n",
    "    avec[0:2,:]=avecinner\n",
    "    avec[2,:]=avecouter[1,:]\n",
    "    return masses,xvec,avec\n",
    "    "
   ]
  },
  {
   "cell_type": "code",
   "execution_count": 12,
   "metadata": {},
   "outputs": [],
   "source": [
    "masses,xvec,avec=weavexyuvtwostarsoneplanet(massesinner,massesouter,xvecinner,xvecouter,avecinner,avecouter)"
   ]
  },
  {
   "cell_type": "code",
   "execution_count": null,
   "metadata": {},
   "outputs": [],
   "source": []
  },
  {
   "cell_type": "code",
   "execution_count": 13,
   "metadata": {},
   "outputs": [
    {
     "data": {
      "text/plain": [
       "array([100., 100.,   1.])"
      ]
     },
     "execution_count": 13,
     "metadata": {},
     "output_type": "execute_result"
    }
   ],
   "source": [
    "masses"
   ]
  },
  {
   "cell_type": "code",
   "execution_count": 14,
   "metadata": {},
   "outputs": [
    {
     "data": {
      "text/plain": [
       "array([[-5.00000000e+00,  0.00000000e+00,  0.00000000e+00,\n",
       "        -0.00000000e+00, -2.23606798e+00,  0.00000000e+00],\n",
       "       [ 5.00000000e+00,  0.00000000e+00,  0.00000000e+00,\n",
       "        -0.00000000e+00,  2.23606798e+00,  0.00000000e+00],\n",
       "       [ 9.95024876e+02,  0.00000000e+00,  0.00000000e+00,\n",
       "        -0.00000000e+00,  4.46099737e-01,  0.00000000e+00]])"
      ]
     },
     "execution_count": 14,
     "metadata": {},
     "output_type": "execute_result"
    }
   ],
   "source": [
    "xvec"
   ]
  },
  {
   "cell_type": "code",
   "execution_count": 15,
   "metadata": {},
   "outputs": [
    {
     "data": {
      "text/plain": [
       "array([[ 1.e+00, -0.e+00,  0.e+00],\n",
       "       [-1.e+00, -0.e+00,  0.e+00],\n",
       "       [-1.e-06, -0.e+00,  0.e+00]])"
      ]
     },
     "execution_count": 15,
     "metadata": {},
     "output_type": "execute_result"
    }
   ],
   "source": [
    "avec"
   ]
  },
  {
   "cell_type": "code",
   "execution_count": 16,
   "metadata": {},
   "outputs": [],
   "source": [
    "xyuvatwostarsplanet=masses,xvec,avec"
   ]
  },
  {
   "cell_type": "code",
   "execution_count": 17,
   "metadata": {},
   "outputs": [],
   "source": [
    "import RK4implicit"
   ]
  },
  {
   "cell_type": "code",
   "execution_count": 18,
   "metadata": {},
   "outputs": [],
   "source": [
    "def RK4implicit(h,t,xvec,f): #not a finite difference so no step in y\n",
    "    k1= h*f(t,xvec)\n",
    "    k2=h*f(t+h/2, xvec+k1/2)\n",
    "    k3=h*f(t+h/2,xvec+k2/2)\n",
    "    k4=h*f(t+h,xvec+k3)\n",
    "    return t+h, xvec+1/6.*(k1+2.*k2+2.*k3+k4)"
   ]
  },
  {
   "cell_type": "code",
   "execution_count": null,
   "metadata": {},
   "outputs": [],
   "source": []
  },
  {
   "cell_type": "code",
   "execution_count": null,
   "metadata": {},
   "outputs": [],
   "source": []
  },
  {
   "cell_type": "code",
   "execution_count": 19,
   "metadata": {},
   "outputs": [],
   "source": [
    "import OrbitDiffEqAdaptive"
   ]
  },
  {
   "cell_type": "code",
   "execution_count": null,
   "metadata": {},
   "outputs": [],
   "source": []
  },
  {
   "cell_type": "code",
   "execution_count": 20,
   "metadata": {},
   "outputs": [
    {
     "name": "stdout",
     "output_type": "stream",
     "text": [
      "[100. 100.   1.] [[-5.00000000e+00  0.00000000e+00  0.00000000e+00 -0.00000000e+00\n",
      "  -2.23606798e+00  0.00000000e+00]\n",
      " [ 5.00000000e+00  0.00000000e+00  0.00000000e+00 -0.00000000e+00\n",
      "   2.23606798e+00  0.00000000e+00]\n",
      " [ 9.95024876e+02  0.00000000e+00  0.00000000e+00 -0.00000000e+00\n",
      "   4.46099737e-01  0.00000000e+00]] 0.0\n",
      "[100. 100.   1.] [[-5.00000000e+00  0.00000000e+00  0.00000000e+00 -0.00000000e+00\n",
      "  -2.23606798e+00  0.00000000e+00]\n",
      " [ 5.00000000e+00  0.00000000e+00  0.00000000e+00 -0.00000000e+00\n",
      "   2.23606798e+00  0.00000000e+00]\n",
      " [ 9.95024876e+02  0.00000000e+00  0.00000000e+00 -0.00000000e+00\n",
      "   4.46099737e-01  0.00000000e+00]] 0.0\n"
     ]
    },
    {
     "data": {
      "text/plain": [
       "<OrbitDiffEqAdaptive.OrbitDiffEqAdaptive at 0x7fdbbc258670>"
      ]
     },
     "execution_count": 20,
     "metadata": {},
     "output_type": "execute_result"
    }
   ],
   "source": [
    "#masses, xvec,avec=xyuvaequneq\n",
    "ODEeq= OrbitDiffEqAdaptive.OrbitDiffEqAdaptive(masses,xvec,avec,0.0, delta)\n",
    "ODEeq.print2D()\n",
    "ODEeq.print2D()"
   ]
  },
  {
   "cell_type": "code",
   "execution_count": 21,
   "metadata": {},
   "outputs": [],
   "source": [
    "#print(xyuvaequneq)"
   ]
  },
  {
   "cell_type": "code",
   "execution_count": 22,
   "metadata": {},
   "outputs": [],
   "source": [
    "import timestepAdaptive"
   ]
  },
  {
   "cell_type": "code",
   "execution_count": 23,
   "metadata": {},
   "outputs": [],
   "source": [
    "import timestep3star"
   ]
  },
  {
   "cell_type": "code",
   "execution_count": 24,
   "metadata": {},
   "outputs": [],
   "source": [
    "import parabfns"
   ]
  },
  {
   "cell_type": "code",
   "execution_count": 25,
   "metadata": {},
   "outputs": [],
   "source": [
    "import ellipsefns"
   ]
  },
  {
   "cell_type": "code",
   "execution_count": 26,
   "metadata": {},
   "outputs": [],
   "source": [
    "import hyperbfns"
   ]
  },
  {
   "cell_type": "code",
   "execution_count": 27,
   "metadata": {},
   "outputs": [],
   "source": [
    "numsteps= 200000 #10000 #50000\n",
    "\n",
    "#numsteps=6000*10\n",
    "\n",
    "dt=.01\n",
    "dtmax=1\n",
    "dtmin = 0.001\n",
    "outputevery=1\n",
    "nptimes, npstar1x, npstar2x,npstar3x, npstar1a, npstar2a,npstar3a,nperr,npdt= timestep3star.timestep3star(numsteps,dt,dtmax,dtmin,xyuvatwostarsplanet,outputevery,delta)"
   ]
  },
  {
   "cell_type": "code",
   "execution_count": 28,
   "metadata": {},
   "outputs": [
    {
     "data": {
      "text/plain": [
       "array([[-5.        ,  0.        ,  0.        , -0.        , -2.23606798,\n",
       "         0.        ],\n",
       "       [-4.99995   , -0.02236061,  0.        ,  0.00999998, -2.23604562,\n",
       "         0.        ],\n",
       "       [-4.99970026, -0.05474722,  0.        ,  0.02448372, -2.23593393,\n",
       "         0.        ],\n",
       "       [-4.99904922, -0.09750333,  0.        ,  0.04360486, -2.23564278,\n",
       "         0.        ],\n",
       "       [-4.99774482, -0.15015569,  0.        ,  0.06715173, -2.23505943,\n",
       "         0.        ],\n",
       "       [-4.99551656, -0.21169369,  0.        ,  0.09467239, -2.23406293,\n",
       "         0.        ],\n",
       "       [-4.9921063 , -0.28084621,  0.        ,  0.12559837, -2.23253781,\n",
       "         0.        ],\n",
       "       [-4.98728946, -0.35629165,  0.        ,  0.15933863, -2.23038366,\n",
       "         0.        ],\n",
       "       [-4.98088498, -0.43678903,  0.        ,  0.19533819, -2.22751949,\n",
       "         0.        ],\n",
       "       [-4.9727562 , -0.52124423,  0.        ,  0.23310774, -2.22388419,\n",
       "         0.        ]])"
      ]
     },
     "execution_count": 28,
     "metadata": {},
     "output_type": "execute_result"
    }
   ],
   "source": [
    "npstar1x[0:10,:]"
   ]
  },
  {
   "cell_type": "markdown",
   "metadata": {},
   "source": [
    "# Orbit Plots"
   ]
  },
  {
   "cell_type": "code",
   "execution_count": null,
   "metadata": {},
   "outputs": [],
   "source": [
    "import matplotlib.pyplot as plt\n",
    "t= np.linspace(-math.pi,math.pi,100000)\n",
    "xax=-200+np.arange(0,400)\n",
    "plt.ylim(-200,200)\n",
    "plt.xlim(-100,100)\n",
    "#plt.axis('equal')\n",
    "mtot=masses[0]+masses[1]\n",
    "semimajor0=rad0*masses[1]/mtot\n",
    "semimajor1=rad0*masses[0]/mtot\n",
    "plt.title(\"Adaptive RK4, Rp=\"+str(rad0)+\", m1=\"+str(masses[0])+\", m2=\"+str(masses[1])+\" e=\"+str(ecc0)+\", theta=\"+str(round(180*theta0/math.pi)))\n",
    "plt.plot(hyperbfns.getxtheory(theta0,ecc0,semimajor1,t,1),hyperbfns.getytheory(theta0,ecc0,semimajor1,t,1),'b')\n",
    "plt.plot(hyperbfns.getxtheory(theta0,ecc0,semimajor0,t,-1),hyperbfns.getytheory(theta0,ecc0,semimajor0,t,-1),'g')\n",
    "plt.plot(npstar1x[:,0],npstar1x[:,1],'k')\n",
    "plt.plot(npstar2x[:,0],npstar2x[:,1],'r')\n",
    "plt.show()"
   ]
  },
  {
   "cell_type": "code",
   "execution_count": 29,
   "metadata": {},
   "outputs": [
    {
     "data": {
      "image/png": "[encoded data removed]",
      "text/plain": [
       "<Figure size 432x288 with 1 Axes>"
      ]
     },
     "metadata": {
      "needs_background": "light"
     },
     "output_type": "display_data"
    }
   ],
   "source": [
    "import matplotlib.pyplot as plt\n",
    "t= np.linspace(-math.pi,math.pi,100000)\n",
    "xax=-200+np.arange(0,400)\n",
    "plt.ylim(-1000,1000)\n",
    "plt.xlim(-1000,1000)\n",
    "#plt.axis('equal')\n",
    "mtot=masses[0]+masses[1]\n",
    "semimajor0=rad0[0]*masses[1]/mtot\n",
    "semimajor1=rad0[0]*masses[0]/mtot\n",
    "#plt.title(\"Adaptive RK4, Rp=\"+str(rad0)+\", m1=\"+str(masses[0])+\", m2=\"+str(masses[1])+\" e=\"+str(ecc0)+\", theta=\"+str(round(180*theta0/math.pi)))\n",
    "plt.title(\"Two massive stars and a planet, circular orbits\")\n",
    "plt.plot(ellipsefns.getxtheory(theta0[0],ecc0[0],semimajor0,t,1),ellipsefns.getytheory(theta0[0],ecc0[0],semimajor0,t,1),'b')\n",
    "plt.plot(ellipsefns.getxtheory(theta0[0],ecc0[0],semimajor1,t,-1),ellipsefns.getytheory(theta0[0],ecc0[0],semimajor1,t,-1),'g')\n",
    "plt.plot(ellipsefns.getxtheory(theta0[1],ecc0[1],rad0[1],t,1),ellipsefns.getytheory(theta0[1],ecc0[1],rad0[1],t,1),'c')\n",
    "plt.plot(npstar1x[:,0],npstar1x[:,1],'y')\n",
    "plt.plot(npstar2x[:,0],npstar2x[:,1],'r')\n",
    "plt.plot(npstar3x[:,0],npstar3x[:,1],'k')\n",
    "plt.show()"
   ]
  },
  {
   "cell_type": "code",
   "execution_count": null,
   "metadata": {},
   "outputs": [],
   "source": []
  },
  {
   "cell_type": "code",
   "execution_count": 30,
   "metadata": {},
   "outputs": [
    {
     "name": "stdout",
     "output_type": "stream",
     "text": [
      "[100. 100.   1.]\n",
      "200.0\n",
      "[10, 1000]\n"
     ]
    },
    {
     "data": {
      "image/png": "[encoded data removed]",
      "text/plain": [
       "<Figure size 432x288 with 1 Axes>"
      ]
     },
     "metadata": {
      "needs_background": "light"
     },
     "output_type": "display_data"
    }
   ],
   "source": [
    "import matplotlib.pyplot as plt\n",
    "t= np.linspace(-math.pi,math.pi,100000)\n",
    "xax=-200+np.arange(0,400)\n",
    "plt.ylim(-50,50)\n",
    "plt.xlim(-50,50)\n",
    "#plt.axis('equal')\n",
    "mtot=masses[0]+masses[1]\n",
    "semimajor0=rad0[0]*masses[1]/mtot\n",
    "semimajor1=rad0[0]*masses[0]/mtot\n",
    "print(masses)\n",
    "print(mtot)\n",
    "print(rad0)\n",
    "#circular\n",
    "#plt.title(\"Adaptive RK4, Rp=\"+str(rad0)+\", m1=\"+str(masses[0])+\", m2=\"+str(masses[1])+\" e=\"+str(ecc0)+\", theta=\"+str(round(180*theta0/math.pi)))\n",
    "plt.title(\"Two massive stars and a planet, circular orbits\")\n",
    "plt.plot(ellipsefns.getxtheory(theta0[0],ecc0[0],semimajor0,t,1),ellipsefns.getytheory(theta0[0],ecc0[0],semimajor0,t,1),'b')\n",
    "plt.plot(ellipsefns.getxtheory(theta0[0],ecc0[0],semimajor1,t,-1),ellipsefns.getytheory(theta0[0],ecc0[0],semimajor1,t,-1),'g')\n",
    "plt.plot(ellipsefns.getxtheory(theta0[1],ecc0[1],rad0[1],t,1),ellipsefns.getytheory(theta0[1],ecc0[1],rad0[1],t,1),'c')\n",
    "plt.plot(npstar1x[:,0],npstar1x[:,1],'y')\n",
    "plt.plot(npstar2x[:,0],npstar2x[:,1],'r')\n",
    "plt.plot(npstar3x[:,0],npstar3x[:,1],'k')\n",
    "plt.plot(ellipsefns.getxtheory(theta0[0],ecc0[0],semimajor0,t,1),ellipsefns.getytheory(theta0[0],ecc0[0],semimajor0,t,1),'b')\n",
    "plt.plot(ellipsefns.getxtheory(theta0[0],ecc0[0],semimajor1,t,-1),ellipsefns.getytheory(theta0[0],ecc0[0],semimajor1,t,-1),'g')\n",
    "plt.plot(ellipsefns.getxtheory(theta0[1],ecc0[1],rad0[1],t,1),ellipsefns.getytheory(theta0[1],ecc0[1],rad0[1],t,1),'c')\n",
    "plt.show()"
   ]
  },
  {
   "cell_type": "markdown",
   "metadata": {},
   "source": [
    "Precession of the central two stars about the three object center of mass and transfer of binding energy from the central two stars to the outer planet as the outer planet moves inward and the radii of the inner stars orbits gets larger (less bound)."
   ]
  },
  {
   "cell_type": "markdown",
   "metadata": {},
   "source": [
    "Eqn 15 pg 95 of \n",
    "An Introduction to the Classical Three-Body Problem\n",
    "From Periodic Solutions to Instabilities and Chaos\n",
    "Govind S Krishnaswami and Himalaya Senapati\n"
   ]
  },
  {
   "cell_type": "markdown",
   "metadata": {},
   "source": [
    "5. Restricted Three-Body Problem\n",
    "The restricted three-body problem is a simplified version of the\n",
    "three-body problem where one of the masses m3 is assumed much\n",
    "smaller than the primaries m1 and m2. The Sun–Earth–Moon\n",
    "system provides an\n",
    "example of the restricted\n",
    "three-body problem\n",
    "where we further have\n",
    "m2 = mE \n",
    " m1 = mS.\n",
    "Thus, m1 and m2 move\n",
    "in Keplerian orbits which are not affected by m3. In the planar circular restricted three-body problem, the primaries move in\n",
    "fixed circular orbits around their common CM with angular speed\n",
    "Ω = (G(m1+m2)/d3)\n",
    "1/2 given by Kepler’s third law and m3 moves\n",
    "in the same plane as m1 and m2. Here, d is the separation between the primaries. This system has 2 degrees of freedom associated to the planar motion of m3, and therefore, a 4-dimensional\n",
    "phase space just like the planar Kepler problem for the reduced\n",
    "mass. However, unlike the latter which has three conserved quantities (energy, z-component of angular momentum and direction\n",
    "of LRL vector) and is exactly solvable, the planar restricted threebody problem has only one known conserved quantity, the ‘Jacobi integral’, which is the energy of m3 in the co-rotating (noninertial) frame of the primaries: The ‘Roche’ effective\n",
    "potential Veff, named\n",
    "after the French\n",
    "astronomer Edouard ´\n",
    "Albert Roche, is a sum\n",
    "of centrifugal and\n",
    "gravitational energies\n",
    "due to m1 and m2.\n",
    "E =[1/2 m3 rdot^2  +1/2 m3 r^2 φdot^2]−1/2 m3 Ω^2 r^2 −G m3 [m1 /r1 + m2/r2]≡ T+Veff. (15)\n",
    "Here, (r, φ) are the plane polar coordinates of m3 in the co-rotating\n",
    "frame of the primaries with origin located at their CM while r1\n",
    "and r2 are the distances of m3 from m1 and m2 (see Figure 4)."
   ]
  },
  {
   "cell_type": "code",
   "execution_count": null,
   "metadata": {},
   "outputs": [],
   "source": [
    "import matplotlib.pyplot as plt\n",
    "t= np.linspace(0,2*math.pi,100)\n",
    "xax=-200+np.arange(0,400)\n",
    "plt.ylim(-200,200)\n",
    "plt.xlim(-200,200)\n",
    "semimajor0=rad0*masses[1]/mtot\n",
    "semimajor1=rad0*masses[0]/mtot\n",
    "plt.title(\"Adaptive RK4, Rp=\"+str(rad0)+\", m1=\"+str(masses[0])+\", m2=\"+str(masses[1])+\" e=\"+str(ecc0)+\", theta=\"+str(round(180*theta0/math.pi)))\n",
    "#plt.title(\"Parabolic Orbit, Adaptive RK4, F=\"+str(rad0)+\", theta=\"+str(round(180*theta0/math.pi)))\n",
    "#plt.axis('equal')\n",
    "xth1=parabfns.getxtheory(theta0,ecc0,semimajor1,t,1)\n",
    "yth1=parabfns.getytheory(theta0,ecc0,semimajor1,t,1)\n",
    "xth0=parabfns.getxtheory(theta0,ecc0,semimajor0,t,-1)\n",
    "yth0=parabfns.getytheory(theta0,ecc0,semimajor0,t,-1)\n",
    "plt.plot(xth1,yth1,'b')\n",
    "plt.plot(xth0,yth0,'g')\n",
    "#plt.plot(xth1,yth1,'o')\n",
    "plt.plot(npstar1x[:,0],npstar1x[:,1],'y')\n",
    "plt.plot(npstar2x[:,0],npstar2x[:,1],'r')\n",
    "plt.show()"
   ]
  },
  {
   "cell_type": "code",
   "execution_count": null,
   "metadata": {},
   "outputs": [],
   "source": []
  },
  {
   "cell_type": "markdown",
   "metadata": {},
   "source": [
    "# RK4 Quality Tests"
   ]
  },
  {
   "cell_type": "code",
   "execution_count": null,
   "metadata": {},
   "outputs": [],
   "source": [
    "import matplotlib.pyplot as plt\n",
    "t = np.linspace(0, 2*math.pi, 100)\n",
    "xax=np.arange(0,100*len(npstar2x[:,1]))\n",
    "xax=xax-len(xax)/2\n",
    "oneellipse=int(len(npdt))\n",
    "plt.ylim(-200,200)\n",
    "plt.xlim(-200,200)\n",
    "#plt.ylim(-1,1)\n",
    "#plt.xlim(74.999,75)\n",
    "plt.title(\"Elliptical Orbit, RK4, a=\"+str(rad0)+\", e=\"+ str(ecc0)+\", theta=\"+str(round(180*theta0/math.pi))+ \" degrees\")\n",
    "plt.plot(ellipsefns.getxtheory(theta0,ecc0,rad0,t,1),ellipsefns.getytheory(theta0,ecc0,rad0,t,1),'b')\n",
    "plt.plot(ellipsefns.getxtheory(theta0,ecc0,rad0,t,-1),ellipsefns.getytheory(theta0,ecc0,rad0,t,-1),'g')\n",
    "plt.plot(npstar1x[:oneellipse,0],npstar1x[:oneellipse,1],'y')\n",
    "plt.plot(npstar2x[:oneellipse,0],npstar2x[:oneellipse,1],'r')\n",
    "plt.plot(xax, np.tan(theta0)*xax,'c')\n",
    "plt.show()"
   ]
  },
  {
   "cell_type": "code",
   "execution_count": null,
   "metadata": {},
   "outputs": [],
   "source": [
    "import matplotlib.pyplot as plt\n",
    "t = np.linspace(0, 2*math.pi, 100)\n",
    "xax=np.arange(0,100*len(npstar2x[:,1]))\n",
    "xax=xax-len(xax)/2\n",
    "\n",
    "#plt.ylim(-200,200)\n",
    "#plt.xlim(-200,200)\n",
    "plt.ylim(-1,1)\n",
    "plt.xlim(74.999,75)\n",
    "plt.title(\"Elliptical Orbit, RK4, a=\"+str(rad0)+\", e=\"+ str(ecc0)+\", theta=\"+str(round(180*theta0/math.pi))+ \" degrees\")\n",
    "plt.plot(ellipsefns.getxtheory(theta0,ecc0,rad0,t,1),ellipsefns.getytheory(theta0,ecc0,rad0,t,1),'b')\n",
    "plt.plot(ellipsefns.getxtheory(theta0,ecc0,rad0,t,-1),ellipsefns.getytheory(theta0,ecc0,rad0,t,-1),'g')\n",
    "plt.plot(npstar1x[:oneellipse,0],npstar1x[:oneellipse,1],'*y')\n",
    "plt.plot(npstar2x[:oneellipse,0],npstar2x[:oneellipse,1],'*r')\n",
    "plt.plot(xax, np.tan(theta0)*xax,'c')\n",
    "plt.show()"
   ]
  },
  {
   "cell_type": "code",
   "execution_count": null,
   "metadata": {},
   "outputs": [],
   "source": [
    "import matplotlib.pyplot as plt\n",
    "t = np.linspace(0, 2*math.pi, 100)\n",
    "xax=np.arange(0,100*len(npstar2x[:,1]))\n",
    "xax=xax-len(xax)/2\n",
    "\n",
    "#plt.ylim(-200,200)\n",
    "#plt.xlim(-200,200)\n",
    "plt.ylim(-10,10)\n",
    "plt.xlim(-25,-20)\n",
    "plt.title(\"Elliptical Orbit, RK4, a=\"+str(rad0)+\", e=\"+ str(ecc0)+\", theta=\"+str(round(180*theta0/math.pi))+ \" degrees\")\n",
    "plt.plot(ellipsefns.getxtheory(theta0,ecc0,rad0,t,1),ellipsefns.getytheory(theta0,ecc0,rad0,t,1),'b')\n",
    "plt.plot(ellipsefns.getxtheory(theta0,ecc0,rad0,t,-1),ellipsefns.getytheory(theta0,ecc0,rad0,t,-1),'g')\n",
    "plt.plot(npstar1x[:,0],npstar1x[:,1],'*y')\n",
    "plt.plot(npstar2x[:,0],npstar2x[:,1],'*r')\n",
    "plt.plot(xax, np.tan(theta0)*xax,'c')\n",
    "plt.show()"
   ]
  },
  {
   "cell_type": "code",
   "execution_count": null,
   "metadata": {},
   "outputs": [],
   "source": [
    "nperr"
   ]
  },
  {
   "cell_type": "code",
   "execution_count": null,
   "metadata": {},
   "outputs": [],
   "source": [
    "\n",
    "\n",
    "plt.xlabel(\"timestep\")\n",
    "plt.ylabel(\"Rel err: 1/30 *|x2-x1|*(h'/h)^5\")\n",
    "plt.title(\"Relative error, RK4\")\n",
    "relerrplt,=plt.plot(np.arange(2,oneellipse),nperr[2:oneellipse],'b',label=\" dtmin = \"+ str(dtmin)+\" delta = \"+str(delta))\n",
    "plt.legend(handles=[relerrplt])\n",
    "plt.show()"
   ]
  },
  {
   "cell_type": "markdown",
   "metadata": {},
   "source": [
    "This curve should be constant and about equal to delta"
   ]
  },
  {
   "cell_type": "code",
   "execution_count": null,
   "metadata": {},
   "outputs": [],
   "source": [
    "\n",
    "\n",
    "plt.xlabel(\"timestep number\")\n",
    "plt.ylabel(\"timestep size\")\n",
    "plt.title(\"Evolution of timestep with step\")\n",
    "relerrplt,=plt.plot(np.arange(2,oneellipse),npdt[2:oneellipse],'b',label=\" dtmin = \"+ str(dtmin)+\" delta = \"+str(delta))\n",
    "\n",
    "plt.show()"
   ]
  },
  {
   "cell_type": "markdown",
   "metadata": {},
   "source": [
    "For appropriately set tolerances, adaptive timestep no longer has feedback issues. Tol=delta=0.0005 or less. The important thing is that this curve is smooth and has no constant regions where the value is pinned to either the maximum or minimum. We also seek reasonable starting values for the timestep. "
   ]
  },
  {
   "cell_type": "code",
   "execution_count": null,
   "metadata": {},
   "outputs": [],
   "source": [
    "plt.xlabel(\"x\")\n",
    "plt.ylabel(\"relative error\")\n",
    "plt.title(\"horizontal position vs relative error\")\n",
    "plt.plot(npstar1x[2:oneellipse,0], nperr[2:oneellipse],'b')\n",
    "plt.show()"
   ]
  },
  {
   "cell_type": "code",
   "execution_count": null,
   "metadata": {},
   "outputs": [],
   "source": [
    "plt.xlabel(\"y\")\n",
    "plt.ylabel(\"rel error\")\n",
    "plt.title(\"y vs rel error\")\n",
    "plt.plot(npstar1x[2:oneellipse,1],nperr[2:oneellipse])\n",
    "plt.show()"
   ]
  },
  {
   "cell_type": "code",
   "execution_count": null,
   "metadata": {},
   "outputs": [],
   "source": [
    "plt.xlabel(\"r\")\n",
    "plt.ylabel(\"rel error\")\n",
    "plt.title(\"r vs rel error\")\n",
    "rstar1x=np.sqrt(npstar1x[:,0]**2+npstar1x[:,1]**2)\n",
    "plt.plot(rstar1x[2:oneellipse],nperr[2:oneellipse],'*b')\n",
    "plt.show()"
   ]
  },
  {
   "cell_type": "code",
   "execution_count": null,
   "metadata": {},
   "outputs": [],
   "source": [
    "plt.xlabel(\"t\")\n",
    "plt.ylabel(\"r\")\n",
    "plt.title(\"r vs t\")\n",
    "plt.plot(nptimes[2:oneellipse], rstar1x[2:oneellipse], '*b')\n",
    "plt.show()"
   ]
  },
  {
   "cell_type": "code",
   "execution_count": null,
   "metadata": {},
   "outputs": [],
   "source": [
    "thetaellipse = np.arctan2(npstar1x[2:oneellipse,1],npstar1x[2:oneellipse,0])"
   ]
  },
  {
   "cell_type": "code",
   "execution_count": null,
   "metadata": {},
   "outputs": [],
   "source": [
    "plt.xlabel(\"t\")\n",
    "plt.ylabel(\"theta\")\n",
    "plt.title(\"theta vs t\")\n",
    "plt.plot(nptimes[2:oneellipse],thetaellipse,'b')\n",
    "plt.show()"
   ]
  },
  {
   "cell_type": "code",
   "execution_count": null,
   "metadata": {},
   "outputs": [],
   "source": [
    "plt.xlabel(\"theta\")\n",
    "plt.ylabel(\"rel error\")\n",
    "plt.title(\"rel error vs theta\")\n",
    "plt.plot(thetaellipse, nperr[2:oneellipse],'*b')\n",
    "plt.show()\n"
   ]
  },
  {
   "cell_type": "markdown",
   "metadata": {},
   "source": [
    "# Conservation of angular momentum"
   ]
  },
  {
   "cell_type": "code",
   "execution_count": null,
   "metadata": {},
   "outputs": [],
   "source": []
  },
  {
   "cell_type": "code",
   "execution_count": null,
   "metadata": {},
   "outputs": [],
   "source": [
    "import Lstability"
   ]
  },
  {
   "cell_type": "code",
   "execution_count": null,
   "metadata": {},
   "outputs": [],
   "source": [
    "deltaL, Lavg=Lstability.Lstability(npstar1x,npstar2x,masses)\n",
    "deltaL, Lavg"
   ]
  },
  {
   "cell_type": "code",
   "execution_count": null,
   "metadata": {},
   "outputs": [],
   "source": [
    "deltaL*Lavg"
   ]
  },
  {
   "cell_type": "markdown",
   "metadata": {},
   "source": [
    "Orbit conserves angular momentum to a tolerance of deltaL. "
   ]
  },
  {
   "cell_type": "markdown",
   "metadata": {},
   "source": [
    "# Conservation of Energy"
   ]
  },
  {
   "cell_type": "code",
   "execution_count": null,
   "metadata": {},
   "outputs": [],
   "source": [
    "import Estability"
   ]
  },
  {
   "cell_type": "code",
   "execution_count": null,
   "metadata": {},
   "outputs": [],
   "source": [
    "deltaE, Eavg = Estability.Estability(npstar1x, npstar2x, masses)\n",
    "deltaE, Eavg"
   ]
  },
  {
   "cell_type": "code",
   "execution_count": null,
   "metadata": {},
   "outputs": [],
   "source": [
    "deltaE*Eavg"
   ]
  },
  {
   "cell_type": "markdown",
   "metadata": {},
   "source": [
    "# Conservation of Jacobi Integral for 3 body"
   ]
  },
  {
   "cell_type": "markdown",
   "metadata": {},
   "source": [
    "Orbit conserves energy to a relative error of deltaE. "
   ]
  },
  {
   "cell_type": "code",
   "execution_count": 77,
   "metadata": {},
   "outputs": [],
   "source": [
    "import numpy as np\n",
    "import math\n",
    "def JacobiStability2(npstar1x,npstar2x,npstar3x,masses,rad0):\n",
    "    npstar1pos=npstar1x[:,0:3]\n",
    "    npstar1v=npstar1x[:,3:]\n",
    "    npstar2pos=npstar2x[:,0:3]\n",
    "    npstar2v=npstar2x[:,3:]\n",
    "    npstar3pos=npstar3x[:,0:3]\n",
    "    npstar3v=npstar3x[:,3:]\n",
    "    cmcoords=(masses[0]*npstar1pos+masses[1]*npstar2pos+masses[2]*npstar3pos)/(masses[0]+masses[1]+masses[2])\n",
    "    \n",
    "    cmprimarycoords=(masses[0]*npstar1pos+masses[1]*npstar2pos)/(masses[0]+masses[1])\n",
    "    #print(cmcoords)\n",
    "    cmprimaryv=(masses[0]*npstar1v+masses[1]*npstar2v)/(masses[0]+masses[1])\n",
    "    r3cm=npstar3pos-cmprimarycoords\n",
    "    v3cm=npstar3v-cmprimaryv\n",
    "    r12=rad0[0] #np.sqrt(np.sum((npstar1pos-npstar2pos)**2,axis=1))\n",
    "    r23=np.sqrt(np.sum((npstar2pos-npstar3pos)**2,axis=1))\n",
    "    r31=np.sqrt(np.sum((npstar3pos-npstar1pos)**2,axis=1))\n",
    "    print(r12,r23,r31)\n",
    "    Omega=((masses[0]+masses[1])/r12**3)**0.5 #angular velocity of inner two stars  \n",
    "    rotmat = np.array([[np.cos(Omega),np.sin(Omega)],[-np.sin(Omega),np.cos(Omega)]])\n",
    "    print(rotmat)\n",
    "    v3shape=v3cm.shape\n",
    "    print(v3shape)\n",
    "    v3cmrot=np.zeros([v3shape[0],2])\n",
    "    for row in np.arange(v3shape[0]):\n",
    "        for i in np.arange(0,2):\n",
    "            for j in np.arange(0,2):\n",
    "                v3cmrot[row,i] = rotmat[i,j]*v3cm[row,j]\n",
    "    print(\"Omegasq=\",Omega**2)\n",
    "    Egrav=-masses[2]*(masses[0]/r31+masses[1]/r23)\n",
    "    Ekinetic=masses[2]*0.5*np.sum(v3cmrot**2,axis=1)\n",
    "    r3cmmagsq=np.sum(r3cm**2,axis=1)\n",
    "    print(\"r3\",r3cmmagsq)\n",
    "    Erot=-0.5*masses[2]*Omega**2*r3cmmagsq\n",
    "    Etot=Ekinetic+Egrav+Erot\n",
    "    #print(Egrav,Ekinetic,Erot,Etot)\n",
    "    deltaE=np.abs(np.std(Etot)/np.mean(Etot))\n",
    "    return deltaE, np.mean(Etot), cmcoords, cmprimarycoords, Ekinetic, Egrav, Erot, Etot\n",
    "\n"
   ]
  },
  {
   "cell_type": "code",
   "execution_count": 78,
   "metadata": {},
   "outputs": [
    {
     "name": "stdout",
     "output_type": "stream",
     "text": [
      "10 [990.02487562 990.02492577 990.02517627 ... 968.46337821 968.39089008\n",
      " 968.31971535] [1000.02487562 1000.02482597 1000.02457798 ...  975.13394141  975.20640709\n",
      "  975.27755797]\n",
      "[[ 0.9016556   0.43245484]\n",
      " [-0.43245484  0.9016556 ]]\n",
      "(200000, 3)\n",
      "Omegasq= 0.19999999999999998\n",
      "r3 [990074.50310636 990074.50310606 990074.50310455 ... 944378.75932839\n",
      " 944379.22622799 944379.69312818]\n"
     ]
    }
   ],
   "source": [
    "#import JacobiStability\n",
    "deltaE, Javg,cm, cmprimary, Ekinetic, Egrav, Erot, Etot = JacobiStability2(npstar1x,npstar2x,npstar3x,masses,rad0)"
   ]
  },
  {
   "cell_type": "code",
   "execution_count": 72,
   "metadata": {},
   "outputs": [
    {
     "name": "stdout",
     "output_type": "stream",
     "text": [
      "0.021593084374229996 -95597.15399762582\n"
     ]
    }
   ],
   "source": [
    "print(deltaE, Javg)"
   ]
  },
  {
   "cell_type": "code",
   "execution_count": 73,
   "metadata": {},
   "outputs": [
    {
     "data": {
      "text/plain": [
       "array([100., 100.,   1.])"
      ]
     },
     "execution_count": 73,
     "metadata": {},
     "output_type": "execute_result"
    }
   ],
   "source": [
    "masses"
   ]
  },
  {
   "cell_type": "code",
   "execution_count": 99,
   "metadata": {},
   "outputs": [
    {
     "data": {
      "text/plain": [
       "<matplotlib.legend.Legend at 0x7fdbb6ddba30>"
      ]
     },
     "execution_count": 99,
     "metadata": {},
     "output_type": "execute_result"
    },
    {
     "data": {
      "image/png": "[encoded data removed]",
      "text/plain": [
       "<Figure size 432x288 with 1 Axes>"
      ]
     },
     "metadata": {
      "needs_background": "light"
     },
     "output_type": "display_data"
    }
   ],
   "source": [
    "line,=plt.plot(nptimes,Egrav,'.y',label=\"Egrav\")\n",
    "plt.plot(nptimes,Ekinetic,'c',label=\"Ekinetic\")\n",
    "#plt.plot(nptimes,Egrav+Ekinetic,'k')\n",
    "plt.plot(nptimes,Erot,'.b',label=\"Erot\")\n",
    "plt.plot(nptimes,Etot,'r',label=\"Etot\")\n",
    "plt.title(\"Jacobi integral energy components\")\n",
    "plt.xlabel(\"time\")\n",
    "plt.ylabel(\"Energy\")\n",
    "plt.legend()"
   ]
  },
  {
   "cell_type": "code",
   "execution_count": 81,
   "metadata": {},
   "outputs": [
    {
     "data": {
      "text/plain": [
       "Text(0, 0.5, 'y')"
      ]
     },
     "execution_count": 81,
     "metadata": {},
     "output_type": "execute_result"
    },
    {
     "data": {
      "image/png": "[encoded data removed]",
      "text/plain": [
       "<Figure size 432x288 with 1 Axes>"
      ]
     },
     "metadata": {
      "needs_background": "light"
     },
     "output_type": "display_data"
    }
   ],
   "source": [
    "plt.plot(cmprimary[:,0]-cm[:,0],cmprimary[:,1]-cm[:,1])\n",
    "plt.title(\"Motion of the center of mass of the binary star system\")\n",
    "plt.xlabel(\"x\")\n",
    "plt.ylabel(\"y\")"
   ]
  },
  {
   "cell_type": "code",
   "execution_count": 83,
   "metadata": {},
   "outputs": [
    {
     "data": {
      "text/plain": [
       "Text(0, 0.5, 'Y')"
      ]
     },
     "execution_count": 83,
     "metadata": {},
     "output_type": "execute_result"
    },
    {
     "data": {
      "image/png": "[encoded data removed]",
      "text/plain": [
       "<Figure size 432x288 with 1 Axes>"
      ]
     },
     "metadata": {
      "needs_background": "light"
     },
     "output_type": "display_data"
    }
   ],
   "source": [
    "plt.plot(cm[:,0], cm[:,1])\n",
    "plt.title(\"Motion of the center of the mass of the three bodies\")\n",
    "plt.xlabel('X')\n",
    "plt.ylabel('Y')"
   ]
  },
  {
   "cell_type": "markdown",
   "metadata": {},
   "source": [
    "# Symmetry of the two stars orbits with respect to eachother "
   ]
  },
  {
   "cell_type": "code",
   "execution_count": null,
   "metadata": {},
   "outputs": [],
   "source": [
    "import orbitSymmetricTol"
   ]
  },
  {
   "cell_type": "code",
   "execution_count": null,
   "metadata": {},
   "outputs": [],
   "source": [
    "allcancelsx, allcancelsa=orbitSymmetricTol.howSymmetric(npstar1x,npstar2x,npstar1a,npstar2a)"
   ]
  },
  {
   "cell_type": "code",
   "execution_count": null,
   "metadata": {},
   "outputs": [],
   "source": [
    "allcancelsx"
   ]
  },
  {
   "cell_type": "markdown",
   "metadata": {},
   "source": [
    "Orbit is symmetric with respect to x and v up to a tolerance of allcancelsx"
   ]
  },
  {
   "cell_type": "code",
   "execution_count": null,
   "metadata": {},
   "outputs": [],
   "source": [
    "allcancelsa"
   ]
  },
  {
   "cell_type": "code",
   "execution_count": null,
   "metadata": {},
   "outputs": [],
   "source": [
    "npstar1x"
   ]
  },
  {
   "cell_type": "markdown",
   "metadata": {},
   "source": [
    "Orbit is symmetric with respect to a to up to or better than a tolerance of allcancelsa"
   ]
  },
  {
   "cell_type": "markdown",
   "metadata": {},
   "source": [
    "# Testing for precision in perihelion and aphelion recovery from knowledge of the initial angle"
   ]
  },
  {
   "cell_type": "code",
   "execution_count": null,
   "metadata": {},
   "outputs": [],
   "source": [
    "import aeTest"
   ]
  },
  {
   "cell_type": "code",
   "execution_count": null,
   "metadata": {},
   "outputs": [],
   "source": [
    "from matplotlib import pyplot as plt\n",
    "plt.plot( np.abs(npstar1x[:,1]))"
   ]
  },
  {
   "cell_type": "code",
   "execution_count": null,
   "metadata": {},
   "outputs": [],
   "source": [
    "def findPerapHelionThetaIsZero(npstar1x,ecc0,rad0,useperihelion):\n",
    "    maxindex=len(npstar1x[:,1])\n",
    "    apindex=np.argmin(np.abs(npstar1x[10:int(maxindex/2),1]))+1\n",
    "    print(apindex)\n",
    "    delta=math.floor(.2*apindex)\n",
    "    print(delta)\n",
    "    perindex=np.argmin(np.abs(npstar1x[delta:apindex-delta,1]))+delta\n",
    "    print(perindex)\n",
    "    print(apindex/perindex)\n",
    "    if np.abs(apindex/perindex-2.)>0.05: \n",
    "        perindex=np.argmin(np.abs(npstar1x[apindex+delta:2*apindex+delta,1]))+delta+apindex\n",
    "        print(perindex)\n",
    "        apindex,perindex=perindex,apindex\n",
    "        print(apindex,perindex)\n",
    "        print(apindex/perindex)\n",
    "    #apindex3=np.argmin(np.abs(npstar1x[100:apindex2-100,1]))+100\n",
    "    #apindex4=np.argmin(np.abs(npstar1x[100:apindex3-100,1]))+100\n",
    "    #perindex=np.argmin(np.abs(npstar1x[100:apindex2-100,1]))+100\n",
    "    if useperihelion:\n",
    "        apindex,perindex=perindex,apindex\n",
    "    coordap=[npstar1x[apindex,0],npstar1x[apindex,1]]\n",
    "    coordper=[npstar1x[perindex,0],npstar1x[perindex,1]]\n",
    "    ra=np.sqrt(np.sum(np.array(coordap)**2))\n",
    "    rp=np.sqrt(np.sum(np.array(coordper)**2))\n",
    "    e=(ra-rp)/(ra+rp)\n",
    "    a=1./2.*(ra+rp)\n",
    "    deltae=np.abs(e-ecc0)/ecc0\n",
    "    deltaa=np.abs(a-rad0)/rad0\n",
    "    return apindex,perindex,coordap,coordper,ra,rp,e,a,deltae,deltaa"
   ]
  },
  {
   "cell_type": "code",
   "execution_count": null,
   "metadata": {},
   "outputs": [],
   "source": [
    "if theta0==0:\n",
    "    apindex,perindex,coordap,coordper,ra,rp,e,a,deltae,deltaa=findPerapHelionThetaIsZero(npstar1x,ecc0,rad0,useperihelion)"
   ]
  },
  {
   "cell_type": "code",
   "execution_count": null,
   "metadata": {},
   "outputs": [],
   "source": []
  },
  {
   "cell_type": "code",
   "execution_count": null,
   "metadata": {},
   "outputs": [],
   "source": [
    "if theta0!=0:\n",
    "    perindex,apindex,coordper,coordap,rp,ra,e,a,deltae,deltaa=aeTest.findPerApHelion(npstar1x,theta0,ecc0,rad0)"
   ]
  },
  {
   "cell_type": "markdown",
   "metadata": {},
   "source": [
    "Recovered perihelion radius given by r_per, recovered aphelion radius given by r_ap, a is semimajor axis computed from the orbit, e is eccentricty computed from the orbit, delta a is relative error on the semimajor axis, and delta e is eccenticity relative error. "
   ]
  },
  {
   "cell_type": "code",
   "execution_count": null,
   "metadata": {},
   "outputs": [],
   "source": [
    "apindex,perindex,coordap,coordper,ra,rp,e,a,deltae,deltaa"
   ]
  },
  {
   "cell_type": "code",
   "execution_count": null,
   "metadata": {},
   "outputs": [],
   "source": [
    "plt.plot(nptimes[:perindex],npstar1x[:perindex,1])"
   ]
  },
  {
   "cell_type": "markdown",
   "metadata": {},
   "source": [
    "# Fit t as a function of the eccentric anomoly (angle from the center of the elipse)"
   ]
  },
  {
   "cell_type": "code",
   "execution_count": null,
   "metadata": {},
   "outputs": [],
   "source": [
    "def findEccentricAnomoly(coordap, coordper):\n",
    "    Ecenter=np.array(coordap)+np.array(coordper)\n",
    "    Ecenter/=2.\n",
    "    return Ecenter\n"
   ]
  },
  {
   "cell_type": "code",
   "execution_count": null,
   "metadata": {},
   "outputs": [],
   "source": [
    "ellipsecenter=findEccentricAnomoly(coordap,coordper)"
   ]
  },
  {
   "cell_type": "code",
   "execution_count": null,
   "metadata": {},
   "outputs": [],
   "source": [
    "ellipsecenter"
   ]
  },
  {
   "cell_type": "code",
   "execution_count": null,
   "metadata": {},
   "outputs": [],
   "source": [
    "def getEllipsecenter(ecc,rad,theta, useperihelion):\n",
    "    #ind of use perihelion\n",
    "    rp=rad*(1-ecc)\n",
    "    ra=-rad*(1+ecc)\n",
    "    rcent=(rp+ra)/2\n",
    "    #print(rp,ra,rcent)\n",
    "    rcentx=rcent*np.cos(theta)\n",
    "    rcenty=rcent* np.sin(theta)\n",
    "    return [rcentx,rcenty]"
   ]
  },
  {
   "cell_type": "code",
   "execution_count": null,
   "metadata": {},
   "outputs": [],
   "source": [
    "(np.array(coordap)+np.array(coordper))/2"
   ]
  },
  {
   "cell_type": "code",
   "execution_count": null,
   "metadata": {},
   "outputs": [],
   "source": [
    "getEllipsecenter(ecc0,rad0,theta0, True)"
   ]
  },
  {
   "cell_type": "code",
   "execution_count": null,
   "metadata": {},
   "outputs": [],
   "source": [
    "np.arctan2(-1.,0)/math.pi*180"
   ]
  },
  {
   "cell_type": "code",
   "execution_count": null,
   "metadata": {},
   "outputs": [],
   "source": [
    "def getEang(npstar2x,ecc,rad,theta, useperihelion):\n",
    "    ellipsecenter=getEllipsecenter(ecc,rad,theta, useperihelion)\n",
    "    #print(ellipsecenter)\n",
    "    #print(npstar1x)\n",
    "    #print(npstar1x[:,0])\n",
    "    xfortan=npstar2x[:,0]-ellipsecenter[0]\n",
    "    yfortan=npstar2x[:,1]-ellipsecenter[1]\n",
    "    #print(\"xy\",xfortan,yfortan)\n",
    "    Eang=np.arctan2(yfortan,xfortan)\n",
    "    Eangtheta=2*np.arctan2(np.sqrt(1-ecc)*np.sin(theta/2.),np.sqrt(1+ecc)*np.cos(theta/2.))\n",
    "    Eang-=Eangtheta\n",
    "    #if useperihelion:\n",
    "    #    Eang-=math.pi\n",
    "    print(len(Eang))\n",
    "    for i in np.arange(len(Eang)):\n",
    "        #if xfortan[i]<0:\n",
    "        #    Eang[i]+=math.pi\n",
    "        if Eang[i]<0:\n",
    "            Eang[i]+=2*math.pi\n",
    "    print(xfortan,yfortan,Eang/math.pi*180)\n",
    "    print(\"Eang\",Eang)\n",
    "    return xfortan, yfortan,Eang"
   ]
  },
  {
   "cell_type": "code",
   "execution_count": null,
   "metadata": {},
   "outputs": [],
   "source": [
    "np.arctan2(-6.69327422*10**-6, -0.02240526)"
   ]
  },
  {
   "cell_type": "code",
   "execution_count": null,
   "metadata": {},
   "outputs": [],
   "source": [
    "def xofeccanom(rad,Eang,ecc):\n",
    "    return rad*(np.cos(Eang)+ecc)"
   ]
  },
  {
   "cell_type": "code",
   "execution_count": null,
   "metadata": {},
   "outputs": [],
   "source": [
    "def yofeccanom(rad, Eang, ecc):\n",
    "    b=getsemiminor(rad,ecc)\n",
    "    return b*np.sin(Eang) "
   ]
  },
  {
   "cell_type": "code",
   "execution_count": null,
   "metadata": {},
   "outputs": [],
   "source": [
    "def tofEccAnom(npstar2x, rad,ecc,theta,mass, useperihelion):\n",
    "    xE0,yE0,Eang=getEang(npstar2x,ecc,rad,theta, useperihelion)\n",
    "    b=getsemiminor(rad,ecc)\n",
    "    #fitval=rad*b*(Eang-ecc*np.sin(Eang))\n",
    "    sgn=-1\n",
    "    if useperihelion:\n",
    "        sgn*=-1\n",
    "    # added a factor of 2 in front of fitval\n",
    "    fitval=rad**(1.5)*mass**(-.5)*(Eang-sgn*ecc*np.sin(Eang))\n",
    "    fitval*=2\n",
    "    print(Eang, ecc,rad,mass,fitval)\n",
    "    return fitval"
   ]
  },
  {
   "cell_type": "code",
   "execution_count": null,
   "metadata": {},
   "outputs": [],
   "source": [
    "def residualtEang(pars,nptimes,npstar2x):\n",
    "    residual=np.abs(nptimes-tofEccAnom(npstar2x,pars['rad'],pars['ecc'],pars['theta'],pars['mass'],pars['useperihelion']))\n",
    "    #print(nptimes, residual)\n",
    "    return residual"
   ]
  },
  {
   "cell_type": "code",
   "execution_count": null,
   "metadata": {},
   "outputs": [],
   "source": [
    "endindex=apindex\n",
    "if useperihelion:\n",
    "    endindex=perindex"
   ]
  },
  {
   "cell_type": "code",
   "execution_count": null,
   "metadata": {},
   "outputs": [],
   "source": [
    "endindex"
   ]
  },
  {
   "cell_type": "code",
   "execution_count": null,
   "metadata": {},
   "outputs": [],
   "source": [
    "xE0,yE0,Eang0=getEang(npstar2x[0:endindex-1,:],ecc0,rad0,theta0, useperihelion)"
   ]
  },
  {
   "cell_type": "code",
   "execution_count": null,
   "metadata": {},
   "outputs": [],
   "source": [
    "nptimesoneorbit=nptimes[0:endindex-1]"
   ]
  },
  {
   "cell_type": "code",
   "execution_count": null,
   "metadata": {},
   "outputs": [],
   "source": [
    "plt.plot(Eang0, xE0)"
   ]
  },
  {
   "cell_type": "code",
   "execution_count": null,
   "metadata": {},
   "outputs": [],
   "source": [
    "plt.plot(Eang0, yE0)"
   ]
  },
  {
   "cell_type": "code",
   "execution_count": null,
   "metadata": {},
   "outputs": [],
   "source": [
    "plt.plot(xE0,yE0)"
   ]
  },
  {
   "cell_type": "code",
   "execution_count": null,
   "metadata": {},
   "outputs": [],
   "source": [
    "plt.plot(nptimesoneorbit,xE0)"
   ]
  },
  {
   "cell_type": "code",
   "execution_count": null,
   "metadata": {},
   "outputs": [],
   "source": []
  },
  {
   "cell_type": "code",
   "execution_count": null,
   "metadata": {},
   "outputs": [],
   "source": [
    "plt.plot(nptimesoneorbit,yE0)"
   ]
  },
  {
   "cell_type": "code",
   "execution_count": null,
   "metadata": {},
   "outputs": [],
   "source": [
    "plt.plot(nptimesoneorbit,yE0/xE0)"
   ]
  },
  {
   "cell_type": "code",
   "execution_count": null,
   "metadata": {},
   "outputs": [],
   "source": [
    "np.arctan(0./1.)"
   ]
  },
  {
   "cell_type": "code",
   "execution_count": null,
   "metadata": {},
   "outputs": [],
   "source": [
    "yE0[0]"
   ]
  },
  {
   "cell_type": "code",
   "execution_count": null,
   "metadata": {},
   "outputs": [],
   "source": [
    "xE0[0]"
   ]
  },
  {
   "cell_type": "code",
   "execution_count": null,
   "metadata": {},
   "outputs": [],
   "source": [
    "plt.plot(nptimesoneorbit,np.arctan2(yE0,xE0)*180/math.pi)"
   ]
  },
  {
   "cell_type": "code",
   "execution_count": null,
   "metadata": {},
   "outputs": [],
   "source": [
    "Eangtest=tofEccAnom(npstar2x[0:endindex-1,:],rad0,ecc0,theta0,masses[0], useperihelion)"
   ]
  },
  {
   "cell_type": "code",
   "execution_count": null,
   "metadata": {},
   "outputs": [],
   "source": [
    "np.max(Eangtest)"
   ]
  },
  {
   "cell_type": "code",
   "execution_count": null,
   "metadata": {},
   "outputs": [],
   "source": [
    "nptimes[0]"
   ]
  },
  {
   "cell_type": "code",
   "execution_count": null,
   "metadata": {},
   "outputs": [],
   "source": [
    "nptimesoneorbit=nptimes[0:endindex-1]"
   ]
  },
  {
   "cell_type": "code",
   "execution_count": null,
   "metadata": {},
   "outputs": [],
   "source": [
    "tpredoneorbit=Eangtest[0:endindex-1]"
   ]
  },
  {
   "cell_type": "code",
   "execution_count": null,
   "metadata": {},
   "outputs": [],
   "source": [
    "Eangoneorbit=Eang0[0:endindex-1]"
   ]
  },
  {
   "cell_type": "code",
   "execution_count": null,
   "metadata": {},
   "outputs": [],
   "source": [
    "plt.plot(nptimesoneorbit,npstar2x[0:endindex-1,1])"
   ]
  },
  {
   "cell_type": "code",
   "execution_count": null,
   "metadata": {},
   "outputs": [],
   "source": [
    "plt.plot(nptimesoneorbit,Eangoneorbit/math.pi*180)"
   ]
  },
  {
   "cell_type": "code",
   "execution_count": null,
   "metadata": {},
   "outputs": [],
   "source": [
    "plt.plot(nptimesoneorbit,tpredoneorbit)"
   ]
  },
  {
   "cell_type": "code",
   "execution_count": null,
   "metadata": {},
   "outputs": [],
   "source": [
    "plt.plot(nptimesoneorbit,tpredoneorbit, label='times')\n",
    "plt.xlabel(\"T timesteps\")\n",
    "plt.ylabel(\"T computed from angle\")\n",
    "plt.title(\"Times using start parameters\")\n",
    "plt.show()\n",
    "plt.plot(nptimesoneorbit,tpredoneorbit-nptimesoneorbit, label='residual')\n",
    "plt.legend()\n",
    "plt.show()\n"
   ]
  },
  {
   "cell_type": "code",
   "execution_count": null,
   "metadata": {},
   "outputs": [],
   "source": [
    "from matplotlib import pyplot as plt"
   ]
  },
  {
   "cell_type": "code",
   "execution_count": null,
   "metadata": {},
   "outputs": [],
   "source": [
    "plt.scatter(nptimesoneorbit,tpredoneorbit)"
   ]
  },
  {
   "cell_type": "code",
   "execution_count": null,
   "metadata": {},
   "outputs": [],
   "source": [
    "from lmfit import Minimizer,Parameters\n",
    "pfittEang = Parameters()\n",
    "pfittEang.add(name='theta', value=theta0, min=theta0-math.pi, max=theta0+math.pi, vary=True)\n",
    "pfittEang.add(name='rad', value=rad0, min=0, vary=True)\n",
    "pfittEang.add(name='ecc', value=ecc0, min=0, max=1.0, vary=True)\n",
    "pfittEang.add(name='mass', value=masses[0], vary=False)\n",
    "pfittEang.add(name='useperihelion', value=True, vary=False)\n",
    "\n",
    "minit = Minimizer(residualtEang, pfittEang, fcn_args=(nptimesoneorbit,npstar2x[:endindex-1,:]))\n",
    "\n",
    "outt = minit.leastsq()"
   ]
  },
  {
   "cell_type": "code",
   "execution_count": null,
   "metadata": {
    "scrolled": true
   },
   "outputs": [],
   "source": [
    "outt"
   ]
  },
  {
   "cell_type": "markdown",
   "metadata": {},
   "source": [
    "Semimajor axis fit is good to about .1 percent at an eccentricity of 0.5. rad=49.886512 for delta=0.0001. rad=49.8863857 for delta = 0.0005. ecc = 0.51764747 for delta = 0.0001. ecc = 0.51765166 for delta = 0.0005. so both ecc and rad improve with a smaller delta, but not quickly. The program runs very slowly for large delta and requires 500000 timesteps for delta=0.0001. "
   ]
  },
  {
   "cell_type": "code",
   "execution_count": null,
   "metadata": {},
   "outputs": [],
   "source": [
    "tfinal=nptimesoneorbit[endindex-2]\n",
    "tfinal"
   ]
  },
  {
   "cell_type": "markdown",
   "metadata": {},
   "source": []
  },
  {
   "cell_type": "markdown",
   "metadata": {},
   "source": []
  },
  {
   "cell_type": "code",
   "execution_count": null,
   "metadata": {},
   "outputs": [],
   "source": [
    "from scipy.fft import fft"
   ]
  },
  {
   "cell_type": "code",
   "execution_count": null,
   "metadata": {},
   "outputs": [],
   "source": [
    "from scipy.signal import blackman\n",
    "wndow=blackman(len(nptimesoneorbit))"
   ]
  },
  {
   "cell_type": "code",
   "execution_count": null,
   "metadata": {},
   "outputs": [],
   "source": [
    "ftresiduals=fft(nptimesoneorbit-tpredoneorbit)"
   ]
  },
  {
   "cell_type": "code",
   "execution_count": null,
   "metadata": {},
   "outputs": [],
   "source": [
    "xf = np.linspace(0.0, 1.0/(2.0*dt), len(nptimesoneorbit)//2)"
   ]
  },
  {
   "cell_type": "code",
   "execution_count": null,
   "metadata": {},
   "outputs": [],
   "source": [
    "plt.semilogy(xf[1:len(nptimesoneorbit)//2], 2.0/len(nptimesoneorbit) * np.abs(ftresiduals[1:len(nptimesoneorbit)//2]), '-b')"
   ]
  },
  {
   "cell_type": "code",
   "execution_count": null,
   "metadata": {},
   "outputs": [],
   "source": [
    "ftr=fft(np.sqrt(npstar1x[:endindex-1,0]**2+npstar1x[:endindex-1,1]**2))"
   ]
  },
  {
   "cell_type": "code",
   "execution_count": null,
   "metadata": {},
   "outputs": [],
   "source": [
    "plt.xlabel(\"frequency\")\n",
    "plt.ylabel(\"Fourier transform of t(E)\")\n",
    "plt.title(\"Fourier transform of time computed from eccentric anomaly\")\n",
    "plt.semilogy(xf[1:len(nptimesoneorbit)//2], 2.0/len(nptimesoneorbit) * np.abs(ftr[1:len(nptimesoneorbit)//2]), '-b')"
   ]
  },
  {
   "cell_type": "markdown",
   "metadata": {},
   "source": [
    "This is the fourier transform of the triangle wave."
   ]
  },
  {
   "cell_type": "code",
   "execution_count": null,
   "metadata": {},
   "outputs": [],
   "source": [
    "plt.title(\"Fourier transform of residuals of times\")\n",
    "plt.xlabel(\"frequency\")\n",
    "plt.ylabel(\"FT(t(E))\")\n",
    "plt.semilogy(xf[1:50], 2.0/len(nptimesoneorbit) * np.abs(ftresiduals[1:50]), '-b')"
   ]
  },
  {
   "cell_type": "code",
   "execution_count": null,
   "metadata": {},
   "outputs": [],
   "source": [
    "plt.xlabel(\"bin number\")\n",
    "plt.ylabel(\"FT(t(E))\")\n",
    "plt.title(\"Fourier transform of residuals of times\")\n",
    "plt.semilogy(np.arange(1,30), 2.0/len(nptimesoneorbit[:29]) * np.abs(ftresiduals[1:30]), '*b')"
   ]
  },
  {
   "cell_type": "markdown",
   "metadata": {},
   "source": [
    "Peak at the second harmonic and the sixth harmonic. The second harmonic seems natural due to the symmetry of the orbit but the sixth harmonic is harder to explain. "
   ]
  },
  {
   "cell_type": "markdown",
   "metadata": {},
   "source": []
  },
  {
   "cell_type": "markdown",
   "metadata": {},
   "source": [
    "Implementing the Adaptive RK4 hasn't changed the fit, residuals, or harmonics, sadly. There is still a 2% error in the fit for an eccentricity of 0.5"
   ]
  },
  {
   "cell_type": "code",
   "execution_count": null,
   "metadata": {},
   "outputs": [],
   "source": []
  },
  {
   "cell_type": "code",
   "execution_count": null,
   "metadata": {},
   "outputs": [],
   "source": []
  },
  {
   "cell_type": "code",
   "execution_count": null,
   "metadata": {},
   "outputs": [],
   "source": []
  },
  {
   "cell_type": "code",
   "execution_count": null,
   "metadata": {},
   "outputs": [],
   "source": []
  },
  {
   "cell_type": "code",
   "execution_count": null,
   "metadata": {},
   "outputs": [],
   "source": []
  },
  {
   "cell_type": "code",
   "execution_count": null,
   "metadata": {},
   "outputs": [],
   "source": []
  }
 ],
 "metadata": {
  "kernelspec": {
   "display_name": "Python 3",
   "language": "python",
   "name": "python3"
  },
  "language_info": {
   "codemirror_mode": {
    "name": "ipython",
    "version": 3
   },
   "file_extension": ".py",
   "mimetype": "text/x-python",
   "name": "python",
   "nbconvert_exporter": "python",
   "pygments_lexer": "ipython3",
   "version": "3.8.2"
  }
 },
 "nbformat": 4,
 "nbformat_minor": 2
}
