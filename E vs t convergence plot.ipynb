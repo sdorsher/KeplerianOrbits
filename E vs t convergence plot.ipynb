{
 "cells": [
  {
   "cell_type": "code",
   "execution_count": null,
   "metadata": {},
   "outputs": [],
   "source": [
    "import numpy as np"
   ]
  },
  {
   "cell_type": "code",
   "execution_count": null,
   "metadata": {},
   "outputs": [],
   "source": [
    "rundir='ConvergenceTest/'\n",
    "runprefix='Run'\n",
    "filename='/twostarsoneplanet'"
   ]
  },
  {
   "cell_type": "code",
   "execution_count": null,
   "metadata": {},
   "outputs": [],
   "source": [
    "tarr=[]\n",
    "dtarr =[]\n",
    "Linitarr=[]\n",
    "pinitarr=[]\n",
    "Einitarr=[]\n",
    "deltaparr=[]\n",
    "deltaEarr=[]\n",
    "deltaLarr=[]\n",
    "Lorbarr=[]\n",
    "porbarr=[]\n",
    "Eorbarr=[]"
   ]
  },
  {
   "cell_type": "code",
   "execution_count": 4,
   "metadata": {},
   "outputs": [],
   "source": [
    "import csv\n",
    "#varname=dtarr, L0arr\n",
    "#typename ='dtarr.csv', 'L0arr.csv'\n",
    "def load1D(rundir,runprefix,n,filename,typename):\n",
    "    with open(rundir+runprefix+str(n)+filename+typename, newline='') as csvfile:\n",
    "        varnamelist = list(csv.reader(csvfile))\n",
    "    varname=np.zeros(len(varnamelist))\n",
    "    count =0\n",
    "    for row in varnamelist:\n",
    "        for item in row:\n",
    "            number = float(item)\n",
    "            varname[count]=number\n",
    "        count+=1\n",
    "    return varname"
   ]
  },
  {
   "cell_type": "code",
   "execution_count": 5,
   "metadata": {},
   "outputs": [],
   "source": [
    "import csv\n",
    "\n",
    "def load2D(rundir,runprefix,n,filename, typename):\n",
    "    with open(rundir+runprefix+str(n)+filename+typename,newline='') as csvfile:\n",
    "        varnamelist = list(csv.reader(csvfile))\n",
    "    varname=np.zeros([len(varnamelist),len(varnamelist[0])])\n",
    "    rownum=0\n",
    "    col=0\n",
    "    for row in varnamelist:\n",
    "        for item in row:\n",
    "            number = float(item)\n",
    "            varname[rownum][col]=number\n",
    "            col+=1\n",
    "        col=0\n",
    "        rownum+=1\n",
    "    return varname"
   ]
  },
  {
   "cell_type": "code",
   "execution_count": 6,
   "metadata": {},
   "outputs": [],
   "source": [
    "import json\n",
    "def loadJSON(rundir,runprefix,n,filename):\n",
    "    \n",
    "    paramsdict={}\n",
    "    import json \n",
    "    with open(rundir+runprefix+str(n)+filename+'params.json') as jsonfile:\n",
    "        paramsdict = json.load(jsonfile)\n",
    "    return paramsdict"
   ]
  },
  {
   "cell_type": "code",
   "execution_count": 7,
   "metadata": {},
   "outputs": [],
   "source": [
    "for i in range(3,8):\n",
    "        t=load1D(rundir,runprefix,i,filename, 'dtarr.csv')\n",
    "        tarr.append(t)\n",
    "        #L0=load1D(rundir,runprefix,i,filename,'L0arr.csv')\n",
    "        #L0arr.append(L0)\n",
    "        deltaE = load2D(rundir,runprefix,i,filename,'deltaEarr.csv')\n",
    "        deltaEarr.append(deltaE)\n",
    "        deltaL = load2D(rundir,runprefix,i,filename,'deltaLarr.csv')\n",
    "        deltaLarr.append(deltaL)\n",
    "        deltap = load2D(rundir,runprefix,i,filename,'deltaparr.csv')\n",
    "        deltaparr.append(deltap)\n",
    "        #Einit=load1D(rundir,runprefix,i,filename,'Einitarr.csv')\n",
    "        #Einitarr.append(Einit)\n",
    "        #Linit=load2D(rundir,runprefix,i,filename,'Linitarr.csv')\n",
    "        #Linitarr.append(Linit)\n",
    "        #pinit=load2D(rundir,runprefix,i,filename,'pinitarr.csv')\n",
    "        #pinitarr.append(pinit)\n",
    "        #Lorb=load2D(rundir,runprefix,i,filename,'Lorbarr.csv')\n",
    "        #Lorbarr.append(Lorb)\n",
    "        #porb=load2D(rundir,runprefix,i,filename,'porbarr.csv')\n",
    "        #porbarr.append(porb)\n",
    "        #Eorb=load2D(rundir,runprefix,i,filename,'Eorbarr.csv')\n",
    "        params=loadJSON(rundir,runprefix,i,filename)\n",
    "        dt=params['dt']\n",
    "        dtarr.append(dt)"
   ]
  },
  {
   "cell_type": "code",
   "execution_count": null,
   "metadata": {},
   "outputs": [],
   "source": [
    "dtarr"
   ]
  },
  {
   "cell_type": "code",
   "execution_count": 16,
   "metadata": {},
   "outputs": [
    {
     "data": {
      "image/png": "[encoded data removed]",
      "text/plain": [
       "<Figure size 432x288 with 1 Axes>"
      ]
     },
     "metadata": {
      "needs_background": "light"
     },
     "output_type": "display_data"
    }
   ],
   "source": [
    "import matplotlib.pyplot as plt\n",
    "fig,ax=plt.subplots(1,1)\n",
    "plt.xlabel('Time')\n",
    "plt.ylabel('Log10(deltaE/E)')\n",
    "plt.title('')\n",
    "for i in range(len(dtarr)):\n",
    "    temptimes=tarr[i]\n",
    "    temp = deltaEarr[i]\n",
    "    #print(i,len(temptimes),len(temp), max(temptimes))\n",
    "    temparr=np.array(temp)\n",
    "    #print(temparr[0:10])\n",
    "    logtemparr=np.log10(temparr)\n",
    "    ax.plot(temptimes,logtemparr,label='dt='+str(dtarr[i]))\n",
    "ax.legend(loc=\"lower right\")\n",
    "plt.show()"
   ]
  },
  {
   "cell_type": "code",
   "execution_count": null,
   "metadata": {},
   "outputs": [],
   "source": []
  }
 ],
 "metadata": {
  "kernelspec": {
   "display_name": "Python 3",
   "language": "python",
   "name": "python3"
  },
  "language_info": {
   "codemirror_mode": {
    "name": "ipython",
    "version": 3
   },
   "file_extension": ".py",
   "mimetype": "text/x-python",
   "name": "python",
   "nbconvert_exporter": "python",
   "pygments_lexer": "ipython3",
   "version": "3.8.5"
  }
 },
 "nbformat": 4,
 "nbformat_minor": 4
}
